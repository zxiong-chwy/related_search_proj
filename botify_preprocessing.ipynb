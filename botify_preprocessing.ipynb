{
 "cells": [
  {
   "cell_type": "code",
   "execution_count": 1,
   "id": "8a99daa9",
   "metadata": {},
   "outputs": [],
   "source": [
    "import pandas as pd\n",
    "from urllib.parse import urlparse\n",
    "import re\n",
    "import spacy"
   ]
  },
  {
   "cell_type": "code",
   "execution_count": 2,
   "id": "c5498833",
   "metadata": {},
   "outputs": [],
   "source": [
    "botify_dat = pd.read_csv('./botify_200codes_09292022.csv')\n",
    "botify_dat = botify_dat.dropna(subset = ['First H1'])\n",
    "botify_dat = botify_dat.drop_duplicates()"
   ]
  },
  {
   "cell_type": "code",
   "execution_count": 3,
   "id": "ea485f2e",
   "metadata": {},
   "outputs": [
    {
     "data": {
      "text/plain": [
       "(220331, 15)"
      ]
     },
     "execution_count": 3,
     "metadata": {},
     "output_type": "execute_result"
    }
   ],
   "source": [
    "botify_dat.shape"
   ]
  },
  {
   "cell_type": "code",
   "execution_count": 4,
   "id": "f8c5498c",
   "metadata": {},
   "outputs": [
    {
     "data": {
      "text/plain": [
       "63072"
      ]
     },
     "execution_count": 4,
     "metadata": {},
     "output_type": "execute_result"
    }
   ],
   "source": [
    "botify_dat['First H1'].nunique()"
   ]
  },
  {
   "cell_type": "code",
   "execution_count": 5,
   "id": "5e877990",
   "metadata": {},
   "outputs": [],
   "source": [
    "botify_dat['cleaned_First_H1'] = botify_dat['First H1'].apply(lambda x: re.sub(' +', ' ', x.lower()))"
   ]
  },
  {
   "cell_type": "code",
   "execution_count": 6,
   "id": "69e5a952",
   "metadata": {},
   "outputs": [
    {
     "data": {
      "text/plain": [
       "62880"
      ]
     },
     "execution_count": 6,
     "metadata": {},
     "output_type": "execute_result"
    }
   ],
   "source": [
    "botify_dat['cleaned_First_H1'].nunique()"
   ]
  },
  {
   "cell_type": "code",
   "execution_count": 7,
   "id": "a1fdbf54",
   "metadata": {},
   "outputs": [],
   "source": [
    "# botify_dat.groupby('cleaned_First_H1')['First H1'].value_counts()"
   ]
  },
  {
   "cell_type": "code",
   "execution_count": 8,
   "id": "99316c8f",
   "metadata": {},
   "outputs": [],
   "source": [
    "botify_dat['info_cnt'] = botify_dat[['Product Id', 'Breadcrumb Depth 1', 'Breadcrumb Depth 2',\n",
    "       'Breadcrumb Depth 3', 'Breadcrumb Depth 4', 'Breadcrumb Depth 5',\n",
    "       'Breadcrumb Depth 6']].apply(lambda x: x.isna()).sum(axis = 1)"
   ]
  },
  {
   "cell_type": "code",
   "execution_count": 9,
   "id": "a95cb8eb",
   "metadata": {},
   "outputs": [],
   "source": [
    "unique_h1s = botify_dat.sort_values(['info_cnt', 'Total Count of Products'], ascending = [True, False]).drop_duplicates('First H1', ignore_index = True)"
   ]
  },
  {
   "cell_type": "code",
   "execution_count": 10,
   "id": "e31630e2",
   "metadata": {},
   "outputs": [
    {
     "data": {
      "text/plain": [
       "(63072, 17)"
      ]
     },
     "execution_count": 10,
     "metadata": {},
     "output_type": "execute_result"
    }
   ],
   "source": [
    "unique_h1s.shape"
   ]
  },
  {
   "cell_type": "code",
   "execution_count": 11,
   "id": "80261176",
   "metadata": {},
   "outputs": [],
   "source": [
    "unique_h1s['Full_URL_netloc'] = unique_h1s['Full URL'].apply(lambda x: urlparse(x).netloc if isinstance(x, str) else x)"
   ]
  },
  {
   "cell_type": "code",
   "execution_count": 12,
   "id": "b86f8f1e",
   "metadata": {},
   "outputs": [
    {
     "data": {
      "text/plain": [
       "www.chewy.com    63072\n",
       "Name: Full_URL_netloc, dtype: int64"
      ]
     },
     "execution_count": 12,
     "metadata": {},
     "output_type": "execute_result"
    }
   ],
   "source": [
    "unique_h1s['Full_URL_netloc'].value_counts()"
   ]
  },
  {
   "cell_type": "code",
   "execution_count": 13,
   "id": "3da0cee5",
   "metadata": {},
   "outputs": [],
   "source": [
    "unique_h1s['Full_URL2'] = unique_h1s['Full URL'].apply(lambda x:x.strip('/').split('/') if isinstance(x, str) else x)"
   ]
  },
  {
   "cell_type": "code",
   "execution_count": 14,
   "id": "27e6c929",
   "metadata": {},
   "outputs": [],
   "source": [
    "unique_h1s['Full_URL2_types'] = unique_h1s['Full_URL2'].apply(lambda x: [w.strip() for w in x if len(str(w).strip()) <= 5 and len(str(w).strip()) > 0] if isinstance(x, list) else x)"
   ]
  },
  {
   "cell_type": "code",
   "execution_count": 15,
   "id": "d3cc6a01",
   "metadata": {},
   "outputs": [
    {
     "data": {
      "text/plain": [
       "[dp]           46503\n",
       "[f]            10988\n",
       "[b]             2513\n",
       "[dp, 37491]        2\n",
       "[dp, 29861]        2\n",
       "Name: Full_URL2_types, dtype: int64"
      ]
     },
     "execution_count": 15,
     "metadata": {},
     "output_type": "execute_result"
    }
   ],
   "source": [
    "unique_h1s['Full_URL2_types'].value_counts(dropna = False).head(5)"
   ]
  },
  {
   "cell_type": "code",
   "execution_count": 16,
   "id": "261fef28",
   "metadata": {},
   "outputs": [],
   "source": [
    "unique_h1s['dp_page'] = unique_h1s['Full_URL2_types'].apply(lambda x: isinstance(x, list) and 'dp' in x)\n",
    "unique_h1s['b_page'] = unique_h1s['Full_URL2_types'].apply(lambda x: isinstance(x, list) and 'b' in x)\n",
    "unique_h1s['f_page'] = unique_h1s['Full_URL2_types'].apply(lambda x: isinstance(x, list) and 'f' in x)"
   ]
  },
  {
   "cell_type": "code",
   "execution_count": 17,
   "id": "4e0342af",
   "metadata": {},
   "outputs": [],
   "source": [
    "for idx, vle in unique_h1s.iterrows():\n",
    "    if vle['dp_page']:\n",
    "        unique_h1s.loc[idx, 'page_type'] = 'dp'\n",
    "    if vle['b_page']:\n",
    "        unique_h1s.loc[idx, 'page_type'] = 'b'\n",
    "    if vle['f_page']:\n",
    "        unique_h1s.loc[idx, 'page_type'] = 'f'"
   ]
  },
  {
   "cell_type": "code",
   "execution_count": 18,
   "id": "763baad5",
   "metadata": {},
   "outputs": [
    {
     "data": {
      "text/plain": [
       "dp    49571\n",
       "f     10988\n",
       "b      2513\n",
       "Name: page_type, dtype: int64"
      ]
     },
     "execution_count": 18,
     "metadata": {},
     "output_type": "execute_result"
    }
   ],
   "source": [
    "unique_h1s['page_type'].value_counts(dropna = False)"
   ]
  },
  {
   "cell_type": "code",
   "execution_count": 19,
   "id": "2dd897f6",
   "metadata": {},
   "outputs": [
    {
     "data": {
      "text/plain": [
       "NaN           23\n",
       "sku:605854     2\n",
       "sku:638686     2\n",
       "sku:239934     2\n",
       "sku:373349     2\n",
       "sku:362760     2\n",
       "sku:269326     2\n",
       "sku:342232     2\n",
       "sku:286579     2\n",
       "sku:296309     2\n",
       "sku:213106     2\n",
       "sku:306527     2\n",
       "sku:271925     2\n",
       "sku:298937     2\n",
       "sku:345640     2\n",
       "sku:605406     2\n",
       "sku:638574     2\n",
       "sku:310597     2\n",
       "sku:363585     2\n",
       "sku:88027      2\n",
       "Name: Product Id, dtype: int64"
      ]
     },
     "execution_count": 19,
     "metadata": {},
     "output_type": "execute_result"
    }
   ],
   "source": [
    "unique_h1s[unique_h1s['dp_page'] == True]['Product Id'].value_counts(dropna = False).head(20)"
   ]
  },
  {
   "cell_type": "code",
   "execution_count": 20,
   "id": "2ac5ecb2",
   "metadata": {},
   "outputs": [
    {
     "data": {
      "text/plain": [
       "First H1                                                                                                                                                             \n",
       "Bundle: Made by Nacho Chicken, Duck & Quail Recipe With Freeze-Dried Chicken Liver +  Salmon, Whitefish & Pumpkin Recipe With Freeze-Dried Chicken Liver Dry Cat Food    1\n",
       "Bundle: Made by Nacho Chicken, Duck & Quail Recipe With Freeze-Dried Chicken Liver + Salmon, Whitefish & Pumpkin Recipe With Freeze-Dried Chicken Liver Dry Cat Food     1\n",
       "dtype: int64"
      ]
     },
     "execution_count": 20,
     "metadata": {},
     "output_type": "execute_result"
    }
   ],
   "source": [
    "unique_h1s[(unique_h1s['dp_page'] == True) & (unique_h1s['Product Id'] == 'sku:605854')][['First H1']].value_counts() #extra spaces"
   ]
  },
  {
   "cell_type": "code",
   "execution_count": 21,
   "id": "a61d7e8a",
   "metadata": {},
   "outputs": [
    {
     "data": {
      "text/plain": [
       "cleaned_First_H1                                                                                                                                                    \n",
       "bundle: made by nacho chicken, duck & quail recipe with freeze-dried chicken liver + salmon, whitefish & pumpkin recipe with freeze-dried chicken liver dry cat food    2\n",
       "dtype: int64"
      ]
     },
     "execution_count": 21,
     "metadata": {},
     "output_type": "execute_result"
    }
   ],
   "source": [
    "unique_h1s[(unique_h1s['dp_page'] == True) & (unique_h1s['Product Id'] == 'sku:605854')][['cleaned_First_H1']].value_counts()"
   ]
  },
  {
   "cell_type": "code",
   "execution_count": 22,
   "id": "4ad9742f",
   "metadata": {},
   "outputs": [
    {
     "data": {
      "text/plain": [
       "NaN     862\n",
       "3.0     819\n",
       "2.0     782\n",
       "4.0     720\n",
       "5.0     609\n",
       "6.0     531\n",
       "7.0     398\n",
       "8.0     383\n",
       "10.0    326\n",
       "9.0     290\n",
       "11.0    227\n",
       "13.0    219\n",
       "12.0    209\n",
       "14.0    185\n",
       "15.0    174\n",
       "17.0    164\n",
       "16.0    147\n",
       "18.0    137\n",
       "19.0    125\n",
       "22.0    116\n",
       "Name: Total Count of Products, dtype: int64"
      ]
     },
     "execution_count": 22,
     "metadata": {},
     "output_type": "execute_result"
    }
   ],
   "source": [
    "unique_h1s[unique_h1s['f_page'] == True]['Total Count of Products'].value_counts(dropna = False).head(20)"
   ]
  },
  {
   "cell_type": "code",
   "execution_count": 23,
   "id": "ba8f94ce",
   "metadata": {},
   "outputs": [
    {
     "data": {
      "text/plain": [
       "9.0     53\n",
       "18.0    46\n",
       "7.0     45\n",
       "11.0    44\n",
       "3.0     42\n",
       "15.0    39\n",
       "8.0     39\n",
       "12.0    37\n",
       "13.0    36\n",
       "5.0     35\n",
       "17.0    35\n",
       "24.0    35\n",
       "22.0    35\n",
       "10.0    33\n",
       "14.0    33\n",
       "16.0    31\n",
       "26.0    31\n",
       "19.0    30\n",
       "4.0     30\n",
       "21.0    30\n",
       "Name: Total Count of Products, dtype: int64"
      ]
     },
     "execution_count": 23,
     "metadata": {},
     "output_type": "execute_result"
    }
   ],
   "source": [
    "unique_h1s[unique_h1s['b_page'] == True]['Total Count of Products'].value_counts(dropna = False).head(20)"
   ]
  },
  {
   "cell_type": "code",
   "execution_count": 24,
   "id": "407ea551",
   "metadata": {},
   "outputs": [
    {
     "data": {
      "text/plain": [
       "0        Living World Blue Ergonomic Small Pet Dish, Small\n",
       "1        Living World Green Ergonomic Small Pet Dish, S...\n",
       "2        Kaytee Hay-N-Food Bin with Quick Locks Small A...\n",
       "3        Lixit Baby Small Animal Bottle Nursing Kit, 4-...\n",
       "4                       Lixit Small Animal Top Fill Bottle\n",
       "                               ...                        \n",
       "63067                                             Equidone\n",
       "63068                                            Ruff Hero\n",
       "63069                                            ShieldTec\n",
       "63070                                           CRB Palace\n",
       "63071                                     Canine Creations\n",
       "Name: First H1, Length: 63072, dtype: object"
      ]
     },
     "execution_count": 24,
     "metadata": {},
     "output_type": "execute_result"
    }
   ],
   "source": [
    "unique_h1s['First H1']"
   ]
  },
  {
   "cell_type": "code",
   "execution_count": 25,
   "id": "f471f572",
   "metadata": {},
   "outputs": [
    {
     "name": "stdout",
     "output_type": "stream",
     "text": [
      "Wall time: 3min 34s\n"
     ]
    }
   ],
   "source": [
    "%%time\n",
    "nlp = spacy.load('en_core_web_sm')\n",
    "unique_h1s['First_H1_lemmatized'] = unique_h1s['cleaned_First_H1'].apply(lambda x: ' '.join([token.lemma_ if token.text != 'id' else token.text for token in nlp(x)]))"
   ]
  },
  {
   "cell_type": "code",
   "execution_count": 26,
   "id": "af1e2cab",
   "metadata": {},
   "outputs": [
    {
     "data": {
      "text/plain": [
       "62880"
      ]
     },
     "execution_count": 26,
     "metadata": {},
     "output_type": "execute_result"
    }
   ],
   "source": [
    "unique_h1s['cleaned_First_H1'].nunique()"
   ]
  },
  {
   "cell_type": "code",
   "execution_count": 27,
   "id": "bcde6016",
   "metadata": {},
   "outputs": [
    {
     "data": {
      "text/plain": [
       "62858"
      ]
     },
     "execution_count": 27,
     "metadata": {},
     "output_type": "execute_result"
    }
   ],
   "source": [
    "unique_h1s['First_H1_lemmatized'].nunique()"
   ]
  },
  {
   "cell_type": "code",
   "execution_count": 28,
   "id": "62f9c557",
   "metadata": {},
   "outputs": [],
   "source": [
    "unique_h1s.reset_index(drop = True).to_csv('./unique_h1s.csv', index = False)"
   ]
  },
  {
   "cell_type": "code",
   "execution_count": 29,
   "id": "e3f20f6c",
   "metadata": {},
   "outputs": [
    {
     "name": "stderr",
     "output_type": "stream",
     "text": [
      "C:\\Users\\ZachXiong\\AppData\\Local\\Temp\\ipykernel_21644\\4185742324.py:1: DtypeWarning: Columns (11,12) have mixed types. Specify dtype option on import or set low_memory=False.\n",
      "  unique_h1s = pd.read_csv('unique_h1s.csv')\n"
     ]
    }
   ],
   "source": [
    "unique_h1s = pd.read_csv('unique_h1s.csv')"
   ]
  },
  {
   "cell_type": "code",
   "execution_count": 30,
   "id": "a90ab6d4",
   "metadata": {},
   "outputs": [
    {
     "data": {
      "text/plain": [
       "f     2173\n",
       "dp     358\n",
       "b        5\n",
       "Name: page_type, dtype: int64"
      ]
     },
     "execution_count": 30,
     "metadata": {},
     "output_type": "execute_result"
    }
   ],
   "source": [
    "unique_h1s[unique_h1s['Breadcrumb Depth 1'].isna()]['page_type'].value_counts()"
   ]
  },
  {
   "cell_type": "code",
   "execution_count": 31,
   "id": "f031270e",
   "metadata": {},
   "outputs": [
    {
     "data": {
      "text/html": [
       "<div>\n",
       "<style scoped>\n",
       "    .dataframe tbody tr th:only-of-type {\n",
       "        vertical-align: middle;\n",
       "    }\n",
       "\n",
       "    .dataframe tbody tr th {\n",
       "        vertical-align: top;\n",
       "    }\n",
       "\n",
       "    .dataframe thead th {\n",
       "        text-align: right;\n",
       "    }\n",
       "</style>\n",
       "<table border=\"1\" class=\"dataframe\">\n",
       "  <thead>\n",
       "    <tr style=\"text-align: right;\">\n",
       "      <th></th>\n",
       "      <th>First H1</th>\n",
       "      <th>Breadcrumb Depth 1</th>\n",
       "    </tr>\n",
       "  </thead>\n",
       "  <tbody>\n",
       "    <tr>\n",
       "      <th>62603</th>\n",
       "      <td>Cat Dental Care</td>\n",
       "      <td>NaN</td>\n",
       "    </tr>\n",
       "    <tr>\n",
       "      <th>62604</th>\n",
       "      <td>Small Pet Shop</td>\n",
       "      <td>NaN</td>\n",
       "    </tr>\n",
       "    <tr>\n",
       "      <th>62605</th>\n",
       "      <td>Autoship &amp; Save</td>\n",
       "      <td>NaN</td>\n",
       "    </tr>\n",
       "    <tr>\n",
       "      <th>62705</th>\n",
       "      <td>Bird Shop</td>\n",
       "      <td>NaN</td>\n",
       "    </tr>\n",
       "    <tr>\n",
       "      <th>62854</th>\n",
       "      <td>Easter Shop</td>\n",
       "      <td>NaN</td>\n",
       "    </tr>\n",
       "  </tbody>\n",
       "</table>\n",
       "</div>"
      ],
      "text/plain": [
       "              First H1 Breadcrumb Depth 1\n",
       "62603  Cat Dental Care                NaN\n",
       "62604   Small Pet Shop                NaN\n",
       "62605  Autoship & Save                NaN\n",
       "62705        Bird Shop                NaN\n",
       "62854      Easter Shop                NaN"
      ]
     },
     "execution_count": 31,
     "metadata": {},
     "output_type": "execute_result"
    }
   ],
   "source": [
    "unique_h1s[(unique_h1s['page_type'] == 'b') & (unique_h1s['Breadcrumb Depth 1'].isna())][['First H1', 'Breadcrumb Depth 1']].head(20)"
   ]
  }
 ],
 "metadata": {
  "kernelspec": {
   "display_name": "Python 3 (ipykernel)",
   "language": "python",
   "name": "python3"
  },
  "language_info": {
   "codemirror_mode": {
    "name": "ipython",
    "version": 3
   },
   "file_extension": ".py",
   "mimetype": "text/x-python",
   "name": "python",
   "nbconvert_exporter": "python",
   "pygments_lexer": "ipython3",
   "version": "3.9.7"
  }
 },
 "nbformat": 4,
 "nbformat_minor": 5
}
